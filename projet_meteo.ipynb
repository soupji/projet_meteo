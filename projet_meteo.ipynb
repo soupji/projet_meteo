{
 "cells": [
  {
   "cell_type": "code",
   "execution_count": 130,
   "metadata": {},
   "outputs": [],
   "source": [
    "# traitement des données\n",
    "import pandas as pd\n",
    "import numpy as np\n",
    "import matplotlib.pyplot as plt \n",
    "import seaborn as sns\n",
    "from pymongo import MongoClient\n",
    "import datetime, time"
   ]
  },
  {
   "cell_type": "code",
   "execution_count": 131,
   "metadata": {},
   "outputs": [
    {
     "name": "stdout",
     "output_type": "stream",
     "text": [
      "Database(MongoClient(host=['localhost:27017'], document_class=dict, tz_aware=False, connect=True), 'meteo')\n"
     ]
    }
   ],
   "source": [
    "client = MongoClient('mongodb://localhost:27017/')\n",
    "db = client[\"meteo\"]\n",
    "collection = db[\"villes\"]\n",
    "\n",
    "print(db)"
   ]
  },
  {
   "cell_type": "code",
   "execution_count": 132,
   "metadata": {},
   "outputs": [
    {
     "data": {
      "text/plain": [
       "(35394, 29)"
      ]
     },
     "execution_count": 132,
     "metadata": {},
     "output_type": "execute_result"
    }
   ],
   "source": [
    "#df = pd.DataFrame(list(collection.find()))\n",
    "#df = pd.json_normalize(df)\n",
    "\n",
    "data = collection.aggregate([{\n",
    "    '$project': {\n",
    "        '_id': 1, \n",
    "        'coord_lon': \"$coord.lon\",\n",
    "        'coord_lat': \"$coord.lat\",\n",
    "        'weather_id': \"$weather.id\",\n",
    "        'weather_main': \"$weather.main\",\n",
    "        'weather_description': \"$weather.description\",\n",
    "        'weather_icon': \"$weather.icon\",\n",
    "        'base': 1,\n",
    "        'main_temp': \"$main.temp\",\n",
    "        'main_feels_like': \"$main.feels_like\",\n",
    "        'main_temp_min': \"$main.temp_min\",\n",
    "        'main_temp_max': \"$main.temp_max\",\n",
    "        'main_pressure': \"$main.pressure\",\n",
    "        'main_humidity': \"$main.humidity\",\n",
    "        'main_sea_level': \"$main.sea_level\",\n",
    "        'main_grnd_level': \"$main.grnd_level\",\n",
    "        'visibility': 1,\n",
    "        'wind_speed': \"$wind.speed\",\n",
    "        'wind_deg': \"$wind.deg\",\n",
    "        'wind_gust': \"$wind.gust\",\n",
    "        'clouds_all': \"$clouds.all\",\n",
    "        'dt': 1,\n",
    "        'sys_country': \"$sys.country\",\n",
    "        'sys_sunrise': \"$sys.sunrise\",\n",
    "        'sys_sunset': \"$sys.sunset\",\n",
    "        'timezone': 1,\n",
    "        'id': 1,\n",
    "        'name': 1,\n",
    "        'cod': 1}}])\n",
    "\n",
    "data_list = list(data)\n",
    "df = pd.DataFrame(data_list)\n",
    "\n",
    "pd.set_option('display.max_columns', None)\n",
    "\n",
    "df.shape"
   ]
  },
  {
   "cell_type": "code",
   "execution_count": 133,
   "metadata": {},
   "outputs": [
    {
     "data": {
      "text/html": [
       "<div>\n",
       "<style scoped>\n",
       "    .dataframe tbody tr th:only-of-type {\n",
       "        vertical-align: middle;\n",
       "    }\n",
       "\n",
       "    .dataframe tbody tr th {\n",
       "        vertical-align: top;\n",
       "    }\n",
       "\n",
       "    .dataframe thead th {\n",
       "        text-align: right;\n",
       "    }\n",
       "</style>\n",
       "<table border=\"1\" class=\"dataframe\">\n",
       "  <thead>\n",
       "    <tr style=\"text-align: right;\">\n",
       "      <th></th>\n",
       "      <th>_id</th>\n",
       "      <th>base</th>\n",
       "      <th>visibility</th>\n",
       "      <th>dt</th>\n",
       "      <th>timezone</th>\n",
       "      <th>id</th>\n",
       "      <th>name</th>\n",
       "      <th>cod</th>\n",
       "      <th>coord_lon</th>\n",
       "      <th>coord_lat</th>\n",
       "      <th>weather_id</th>\n",
       "      <th>weather_main</th>\n",
       "      <th>weather_description</th>\n",
       "      <th>weather_icon</th>\n",
       "      <th>main_temp</th>\n",
       "      <th>main_feels_like</th>\n",
       "      <th>main_temp_min</th>\n",
       "      <th>main_temp_max</th>\n",
       "      <th>main_pressure</th>\n",
       "      <th>main_humidity</th>\n",
       "      <th>main_sea_level</th>\n",
       "      <th>main_grnd_level</th>\n",
       "      <th>wind_speed</th>\n",
       "      <th>wind_deg</th>\n",
       "      <th>wind_gust</th>\n",
       "      <th>clouds_all</th>\n",
       "      <th>sys_country</th>\n",
       "      <th>sys_sunrise</th>\n",
       "      <th>sys_sunset</th>\n",
       "    </tr>\n",
       "  </thead>\n",
       "  <tbody>\n",
       "    <tr>\n",
       "      <th>0</th>\n",
       "      <td>6773f0d2ac01b99f7d4d4277</td>\n",
       "      <td>stations</td>\n",
       "      <td>10000.0</td>\n",
       "      <td>1735651448</td>\n",
       "      <td>3600</td>\n",
       "      <td>2967103</td>\n",
       "      <td>Peyrat-le-Château</td>\n",
       "      <td>200</td>\n",
       "      <td>1.7723</td>\n",
       "      <td>45.8158</td>\n",
       "      <td>[800]</td>\n",
       "      <td>[Clear]</td>\n",
       "      <td>[clear sky]</td>\n",
       "      <td>[01d]</td>\n",
       "      <td>8.57</td>\n",
       "      <td>8.57</td>\n",
       "      <td>8.57</td>\n",
       "      <td>8.57</td>\n",
       "      <td>1030</td>\n",
       "      <td>48</td>\n",
       "      <td>1030</td>\n",
       "      <td>968</td>\n",
       "      <td>1.11</td>\n",
       "      <td>246</td>\n",
       "      <td>1.55</td>\n",
       "      <td>0</td>\n",
       "      <td>FR</td>\n",
       "      <td>1735630447</td>\n",
       "      <td>1735661860</td>\n",
       "    </tr>\n",
       "    <tr>\n",
       "      <th>1</th>\n",
       "      <td>6773f0d2ac01b99f7d4d4278</td>\n",
       "      <td>stations</td>\n",
       "      <td>10000.0</td>\n",
       "      <td>1735651448</td>\n",
       "      <td>3600</td>\n",
       "      <td>2967108</td>\n",
       "      <td>Blaye</td>\n",
       "      <td>200</td>\n",
       "      <td>-0.6667</td>\n",
       "      <td>45.1333</td>\n",
       "      <td>[800]</td>\n",
       "      <td>[Clear]</td>\n",
       "      <td>[clear sky]</td>\n",
       "      <td>[01d]</td>\n",
       "      <td>8.61</td>\n",
       "      <td>7.44</td>\n",
       "      <td>8.61</td>\n",
       "      <td>8.61</td>\n",
       "      <td>1031</td>\n",
       "      <td>54</td>\n",
       "      <td>1031</td>\n",
       "      <td>1028</td>\n",
       "      <td>2.16</td>\n",
       "      <td>137</td>\n",
       "      <td>2.48</td>\n",
       "      <td>6</td>\n",
       "      <td>FR</td>\n",
       "      <td>1735630880</td>\n",
       "      <td>1735662597</td>\n",
       "    </tr>\n",
       "    <tr>\n",
       "      <th>2</th>\n",
       "      <td>6773f0d2ac01b99f7d4d4279</td>\n",
       "      <td>stations</td>\n",
       "      <td>10000.0</td>\n",
       "      <td>1735651449</td>\n",
       "      <td>3600</td>\n",
       "      <td>2967110</td>\n",
       "      <td>Zuydcoote</td>\n",
       "      <td>200</td>\n",
       "      <td>2.4934</td>\n",
       "      <td>51.0610</td>\n",
       "      <td>[804]</td>\n",
       "      <td>[Clouds]</td>\n",
       "      <td>[overcast clouds]</td>\n",
       "      <td>[04d]</td>\n",
       "      <td>6.35</td>\n",
       "      <td>2.54</td>\n",
       "      <td>4.99</td>\n",
       "      <td>6.68</td>\n",
       "      <td>1023</td>\n",
       "      <td>86</td>\n",
       "      <td>1023</td>\n",
       "      <td>1022</td>\n",
       "      <td>6.17</td>\n",
       "      <td>200</td>\n",
       "      <td>NaN</td>\n",
       "      <td>100</td>\n",
       "      <td>FR</td>\n",
       "      <td>1735631612</td>\n",
       "      <td>1735660349</td>\n",
       "    </tr>\n",
       "    <tr>\n",
       "      <th>3</th>\n",
       "      <td>6773f0d2ac01b99f7d4d427a</td>\n",
       "      <td>stations</td>\n",
       "      <td>10000.0</td>\n",
       "      <td>1735651449</td>\n",
       "      <td>3600</td>\n",
       "      <td>2967112</td>\n",
       "      <td>Zutkerque</td>\n",
       "      <td>200</td>\n",
       "      <td>2.0682</td>\n",
       "      <td>50.8530</td>\n",
       "      <td>[804]</td>\n",
       "      <td>[Clouds]</td>\n",
       "      <td>[overcast clouds]</td>\n",
       "      <td>[04d]</td>\n",
       "      <td>6.54</td>\n",
       "      <td>2.22</td>\n",
       "      <td>6.54</td>\n",
       "      <td>6.54</td>\n",
       "      <td>1023</td>\n",
       "      <td>72</td>\n",
       "      <td>1023</td>\n",
       "      <td>1016</td>\n",
       "      <td>7.86</td>\n",
       "      <td>224</td>\n",
       "      <td>14.54</td>\n",
       "      <td>100</td>\n",
       "      <td>FR</td>\n",
       "      <td>1735631654</td>\n",
       "      <td>1735660511</td>\n",
       "    </tr>\n",
       "    <tr>\n",
       "      <th>4</th>\n",
       "      <td>6773f0d2ac01b99f7d4d427b</td>\n",
       "      <td>stations</td>\n",
       "      <td>10000.0</td>\n",
       "      <td>1735651449</td>\n",
       "      <td>3600</td>\n",
       "      <td>2967125</td>\n",
       "      <td>Zonza</td>\n",
       "      <td>200</td>\n",
       "      <td>9.1710</td>\n",
       "      <td>41.7481</td>\n",
       "      <td>[800]</td>\n",
       "      <td>[Clear]</td>\n",
       "      <td>[clear sky]</td>\n",
       "      <td>[01d]</td>\n",
       "      <td>10.06</td>\n",
       "      <td>8.51</td>\n",
       "      <td>10.06</td>\n",
       "      <td>10.13</td>\n",
       "      <td>1030</td>\n",
       "      <td>53</td>\n",
       "      <td>1030</td>\n",
       "      <td>953</td>\n",
       "      <td>1.45</td>\n",
       "      <td>176</td>\n",
       "      <td>1.22</td>\n",
       "      <td>0</td>\n",
       "      <td>FR</td>\n",
       "      <td>1735627826</td>\n",
       "      <td>1735660928</td>\n",
       "    </tr>\n",
       "  </tbody>\n",
       "</table>\n",
       "</div>"
      ],
      "text/plain": [
       "                        _id      base  visibility          dt  timezone  \\\n",
       "0  6773f0d2ac01b99f7d4d4277  stations     10000.0  1735651448      3600   \n",
       "1  6773f0d2ac01b99f7d4d4278  stations     10000.0  1735651448      3600   \n",
       "2  6773f0d2ac01b99f7d4d4279  stations     10000.0  1735651449      3600   \n",
       "3  6773f0d2ac01b99f7d4d427a  stations     10000.0  1735651449      3600   \n",
       "4  6773f0d2ac01b99f7d4d427b  stations     10000.0  1735651449      3600   \n",
       "\n",
       "        id               name  cod  coord_lon  coord_lat weather_id  \\\n",
       "0  2967103  Peyrat-le-Château  200     1.7723    45.8158      [800]   \n",
       "1  2967108              Blaye  200    -0.6667    45.1333      [800]   \n",
       "2  2967110          Zuydcoote  200     2.4934    51.0610      [804]   \n",
       "3  2967112          Zutkerque  200     2.0682    50.8530      [804]   \n",
       "4  2967125              Zonza  200     9.1710    41.7481      [800]   \n",
       "\n",
       "  weather_main weather_description weather_icon  main_temp  main_feels_like  \\\n",
       "0      [Clear]         [clear sky]        [01d]       8.57             8.57   \n",
       "1      [Clear]         [clear sky]        [01d]       8.61             7.44   \n",
       "2     [Clouds]   [overcast clouds]        [04d]       6.35             2.54   \n",
       "3     [Clouds]   [overcast clouds]        [04d]       6.54             2.22   \n",
       "4      [Clear]         [clear sky]        [01d]      10.06             8.51   \n",
       "\n",
       "   main_temp_min  main_temp_max  main_pressure  main_humidity  main_sea_level  \\\n",
       "0           8.57           8.57           1030             48            1030   \n",
       "1           8.61           8.61           1031             54            1031   \n",
       "2           4.99           6.68           1023             86            1023   \n",
       "3           6.54           6.54           1023             72            1023   \n",
       "4          10.06          10.13           1030             53            1030   \n",
       "\n",
       "   main_grnd_level  wind_speed  wind_deg  wind_gust  clouds_all sys_country  \\\n",
       "0              968        1.11       246       1.55           0          FR   \n",
       "1             1028        2.16       137       2.48           6          FR   \n",
       "2             1022        6.17       200        NaN         100          FR   \n",
       "3             1016        7.86       224      14.54         100          FR   \n",
       "4              953        1.45       176       1.22           0          FR   \n",
       "\n",
       "   sys_sunrise  sys_sunset  \n",
       "0   1735630447  1735661860  \n",
       "1   1735630880  1735662597  \n",
       "2   1735631612  1735660349  \n",
       "3   1735631654  1735660511  \n",
       "4   1735627826  1735660928  "
      ]
     },
     "execution_count": 133,
     "metadata": {},
     "output_type": "execute_result"
    }
   ],
   "source": [
    "df.head()"
   ]
  },
  {
   "cell_type": "code",
   "execution_count": 134,
   "metadata": {},
   "outputs": [
    {
     "data": {
      "text/html": [
       "<div>\n",
       "<style scoped>\n",
       "    .dataframe tbody tr th:only-of-type {\n",
       "        vertical-align: middle;\n",
       "    }\n",
       "\n",
       "    .dataframe tbody tr th {\n",
       "        vertical-align: top;\n",
       "    }\n",
       "\n",
       "    .dataframe thead th {\n",
       "        text-align: right;\n",
       "    }\n",
       "</style>\n",
       "<table border=\"1\" class=\"dataframe\">\n",
       "  <thead>\n",
       "    <tr style=\"text-align: right;\">\n",
       "      <th></th>\n",
       "      <th>visibility</th>\n",
       "      <th>dt</th>\n",
       "      <th>timezone</th>\n",
       "      <th>id</th>\n",
       "      <th>cod</th>\n",
       "      <th>coord_lon</th>\n",
       "      <th>coord_lat</th>\n",
       "      <th>main_temp</th>\n",
       "      <th>main_feels_like</th>\n",
       "      <th>main_temp_min</th>\n",
       "      <th>main_temp_max</th>\n",
       "      <th>main_pressure</th>\n",
       "      <th>main_humidity</th>\n",
       "      <th>main_sea_level</th>\n",
       "      <th>main_grnd_level</th>\n",
       "      <th>wind_speed</th>\n",
       "      <th>wind_deg</th>\n",
       "      <th>wind_gust</th>\n",
       "      <th>clouds_all</th>\n",
       "      <th>sys_sunrise</th>\n",
       "      <th>sys_sunset</th>\n",
       "    </tr>\n",
       "  </thead>\n",
       "  <tbody>\n",
       "    <tr>\n",
       "      <th>count</th>\n",
       "      <td>35355.000000</td>\n",
       "      <td>3.539400e+04</td>\n",
       "      <td>35394.0</td>\n",
       "      <td>3.539400e+04</td>\n",
       "      <td>35394.0</td>\n",
       "      <td>35394.000000</td>\n",
       "      <td>35394.000000</td>\n",
       "      <td>35394.000000</td>\n",
       "      <td>35394.000000</td>\n",
       "      <td>35394.000000</td>\n",
       "      <td>35394.000000</td>\n",
       "      <td>35394.000000</td>\n",
       "      <td>35394.000000</td>\n",
       "      <td>35394.000000</td>\n",
       "      <td>35394.000000</td>\n",
       "      <td>35394.000000</td>\n",
       "      <td>35394.000000</td>\n",
       "      <td>24331.000000</td>\n",
       "      <td>35394.000000</td>\n",
       "      <td>3.539400e+04</td>\n",
       "      <td>3.539400e+04</td>\n",
       "    </tr>\n",
       "    <tr>\n",
       "      <th>mean</th>\n",
       "      <td>9415.488219</td>\n",
       "      <td>1.735652e+09</td>\n",
       "      <td>3600.0</td>\n",
       "      <td>4.008662e+06</td>\n",
       "      <td>200.0</td>\n",
       "      <td>1.924670</td>\n",
       "      <td>46.743599</td>\n",
       "      <td>6.408468</td>\n",
       "      <td>4.498180</td>\n",
       "      <td>6.188433</td>\n",
       "      <td>6.685788</td>\n",
       "      <td>1028.704385</td>\n",
       "      <td>74.352941</td>\n",
       "      <td>1028.704385</td>\n",
       "      <td>999.371956</td>\n",
       "      <td>3.311995</td>\n",
       "      <td>173.721874</td>\n",
       "      <td>5.576522</td>\n",
       "      <td>52.447279</td>\n",
       "      <td>1.735631e+09</td>\n",
       "      <td>1.735662e+09</td>\n",
       "    </tr>\n",
       "    <tr>\n",
       "      <th>std</th>\n",
       "      <td>1955.300655</td>\n",
       "      <td>5.384899e+02</td>\n",
       "      <td>0.0</td>\n",
       "      <td>1.568989e+06</td>\n",
       "      <td>0.0</td>\n",
       "      <td>2.762517</td>\n",
       "      <td>2.172067</td>\n",
       "      <td>3.747537</td>\n",
       "      <td>4.452451</td>\n",
       "      <td>3.728624</td>\n",
       "      <td>3.766458</td>\n",
       "      <td>2.018589</td>\n",
       "      <td>16.821945</td>\n",
       "      <td>2.018589</td>\n",
       "      <td>31.297134</td>\n",
       "      <td>2.521818</td>\n",
       "      <td>77.681392</td>\n",
       "      <td>5.039624</td>\n",
       "      <td>45.498550</td>\n",
       "      <td>8.739361e+02</td>\n",
       "      <td>7.983275e+02</td>\n",
       "    </tr>\n",
       "    <tr>\n",
       "      <th>min</th>\n",
       "      <td>400.000000</td>\n",
       "      <td>1.735651e+09</td>\n",
       "      <td>3600.0</td>\n",
       "      <td>2.967103e+06</td>\n",
       "      <td>200.0</td>\n",
       "      <td>-4.770900</td>\n",
       "      <td>41.387400</td>\n",
       "      <td>-7.360000</td>\n",
       "      <td>-8.370000</td>\n",
       "      <td>-7.360000</td>\n",
       "      <td>-7.360000</td>\n",
       "      <td>1021.000000</td>\n",
       "      <td>9.000000</td>\n",
       "      <td>1021.000000</td>\n",
       "      <td>752.000000</td>\n",
       "      <td>0.000000</td>\n",
       "      <td>0.000000</td>\n",
       "      <td>0.010000</td>\n",
       "      <td>0.000000</td>\n",
       "      <td>1.735628e+09</td>\n",
       "      <td>1.735660e+09</td>\n",
       "    </tr>\n",
       "    <tr>\n",
       "      <th>25%</th>\n",
       "      <td>10000.000000</td>\n",
       "      <td>1.735652e+09</td>\n",
       "      <td>3600.0</td>\n",
       "      <td>2.988609e+06</td>\n",
       "      <td>200.0</td>\n",
       "      <td>-0.319100</td>\n",
       "      <td>44.950000</td>\n",
       "      <td>4.120000</td>\n",
       "      <td>0.620000</td>\n",
       "      <td>3.800000</td>\n",
       "      <td>4.450000</td>\n",
       "      <td>1028.000000</td>\n",
       "      <td>58.000000</td>\n",
       "      <td>1028.000000</td>\n",
       "      <td>994.000000</td>\n",
       "      <td>1.190000</td>\n",
       "      <td>122.000000</td>\n",
       "      <td>1.330000</td>\n",
       "      <td>0.000000</td>\n",
       "      <td>1.735630e+09</td>\n",
       "      <td>1.735661e+09</td>\n",
       "    </tr>\n",
       "    <tr>\n",
       "      <th>50%</th>\n",
       "      <td>10000.000000</td>\n",
       "      <td>1.735652e+09</td>\n",
       "      <td>3600.0</td>\n",
       "      <td>3.019340e+06</td>\n",
       "      <td>200.0</td>\n",
       "      <td>1.847800</td>\n",
       "      <td>46.787600</td>\n",
       "      <td>7.090000</td>\n",
       "      <td>4.810000</td>\n",
       "      <td>6.980000</td>\n",
       "      <td>7.270000</td>\n",
       "      <td>1029.000000</td>\n",
       "      <td>77.000000</td>\n",
       "      <td>1029.000000</td>\n",
       "      <td>1011.000000</td>\n",
       "      <td>2.570000</td>\n",
       "      <td>200.000000</td>\n",
       "      <td>2.780000</td>\n",
       "      <td>71.000000</td>\n",
       "      <td>1.735631e+09</td>\n",
       "      <td>1.735662e+09</td>\n",
       "    </tr>\n",
       "    <tr>\n",
       "      <th>75%</th>\n",
       "      <td>10000.000000</td>\n",
       "      <td>1.735653e+09</td>\n",
       "      <td>3600.0</td>\n",
       "      <td>6.427624e+06</td>\n",
       "      <td>200.0</td>\n",
       "      <td>3.843600</td>\n",
       "      <td>48.729100</td>\n",
       "      <td>9.080000</td>\n",
       "      <td>8.400000</td>\n",
       "      <td>8.910000</td>\n",
       "      <td>9.290000</td>\n",
       "      <td>1030.000000</td>\n",
       "      <td>89.000000</td>\n",
       "      <td>1030.000000</td>\n",
       "      <td>1018.000000</td>\n",
       "      <td>5.140000</td>\n",
       "      <td>219.000000</td>\n",
       "      <td>10.480000</td>\n",
       "      <td>100.000000</td>\n",
       "      <td>1.735631e+09</td>\n",
       "      <td>1.735662e+09</td>\n",
       "    </tr>\n",
       "    <tr>\n",
       "      <th>max</th>\n",
       "      <td>10000.000000</td>\n",
       "      <td>1.735654e+09</td>\n",
       "      <td>3600.0</td>\n",
       "      <td>8.015556e+06</td>\n",
       "      <td>200.0</td>\n",
       "      <td>9.522400</td>\n",
       "      <td>51.077900</td>\n",
       "      <td>16.030000</td>\n",
       "      <td>15.330000</td>\n",
       "      <td>15.980000</td>\n",
       "      <td>16.030000</td>\n",
       "      <td>1032.000000</td>\n",
       "      <td>100.000000</td>\n",
       "      <td>1032.000000</td>\n",
       "      <td>1031.000000</td>\n",
       "      <td>13.380000</td>\n",
       "      <td>360.000000</td>\n",
       "      <td>18.450000</td>\n",
       "      <td>100.000000</td>\n",
       "      <td>1.735633e+09</td>\n",
       "      <td>1.735663e+09</td>\n",
       "    </tr>\n",
       "  </tbody>\n",
       "</table>\n",
       "</div>"
      ],
      "text/plain": [
       "         visibility            dt  timezone            id      cod  \\\n",
       "count  35355.000000  3.539400e+04   35394.0  3.539400e+04  35394.0   \n",
       "mean    9415.488219  1.735652e+09    3600.0  4.008662e+06    200.0   \n",
       "std     1955.300655  5.384899e+02       0.0  1.568989e+06      0.0   \n",
       "min      400.000000  1.735651e+09    3600.0  2.967103e+06    200.0   \n",
       "25%    10000.000000  1.735652e+09    3600.0  2.988609e+06    200.0   \n",
       "50%    10000.000000  1.735652e+09    3600.0  3.019340e+06    200.0   \n",
       "75%    10000.000000  1.735653e+09    3600.0  6.427624e+06    200.0   \n",
       "max    10000.000000  1.735654e+09    3600.0  8.015556e+06    200.0   \n",
       "\n",
       "          coord_lon     coord_lat     main_temp  main_feels_like  \\\n",
       "count  35394.000000  35394.000000  35394.000000     35394.000000   \n",
       "mean       1.924670     46.743599      6.408468         4.498180   \n",
       "std        2.762517      2.172067      3.747537         4.452451   \n",
       "min       -4.770900     41.387400     -7.360000        -8.370000   \n",
       "25%       -0.319100     44.950000      4.120000         0.620000   \n",
       "50%        1.847800     46.787600      7.090000         4.810000   \n",
       "75%        3.843600     48.729100      9.080000         8.400000   \n",
       "max        9.522400     51.077900     16.030000        15.330000   \n",
       "\n",
       "       main_temp_min  main_temp_max  main_pressure  main_humidity  \\\n",
       "count   35394.000000   35394.000000   35394.000000   35394.000000   \n",
       "mean        6.188433       6.685788    1028.704385      74.352941   \n",
       "std         3.728624       3.766458       2.018589      16.821945   \n",
       "min        -7.360000      -7.360000    1021.000000       9.000000   \n",
       "25%         3.800000       4.450000    1028.000000      58.000000   \n",
       "50%         6.980000       7.270000    1029.000000      77.000000   \n",
       "75%         8.910000       9.290000    1030.000000      89.000000   \n",
       "max        15.980000      16.030000    1032.000000     100.000000   \n",
       "\n",
       "       main_sea_level  main_grnd_level    wind_speed      wind_deg  \\\n",
       "count    35394.000000     35394.000000  35394.000000  35394.000000   \n",
       "mean      1028.704385       999.371956      3.311995    173.721874   \n",
       "std          2.018589        31.297134      2.521818     77.681392   \n",
       "min       1021.000000       752.000000      0.000000      0.000000   \n",
       "25%       1028.000000       994.000000      1.190000    122.000000   \n",
       "50%       1029.000000      1011.000000      2.570000    200.000000   \n",
       "75%       1030.000000      1018.000000      5.140000    219.000000   \n",
       "max       1032.000000      1031.000000     13.380000    360.000000   \n",
       "\n",
       "          wind_gust    clouds_all   sys_sunrise    sys_sunset  \n",
       "count  24331.000000  35394.000000  3.539400e+04  3.539400e+04  \n",
       "mean       5.576522     52.447279  1.735631e+09  1.735662e+09  \n",
       "std        5.039624     45.498550  8.739361e+02  7.983275e+02  \n",
       "min        0.010000      0.000000  1.735628e+09  1.735660e+09  \n",
       "25%        1.330000      0.000000  1.735630e+09  1.735661e+09  \n",
       "50%        2.780000     71.000000  1.735631e+09  1.735662e+09  \n",
       "75%       10.480000    100.000000  1.735631e+09  1.735662e+09  \n",
       "max       18.450000    100.000000  1.735633e+09  1.735663e+09  "
      ]
     },
     "execution_count": 134,
     "metadata": {},
     "output_type": "execute_result"
    }
   ],
   "source": [
    "df.describe()"
   ]
  },
  {
   "cell_type": "code",
   "execution_count": 135,
   "metadata": {},
   "outputs": [
    {
     "data": {
      "text/plain": [
       "<AxesSubplot:ylabel='None'>"
      ]
     },
     "execution_count": 135,
     "metadata": {},
     "output_type": "execute_result"
    },
    {
     "data": {
      "image/png": "[encoded data removed]",
      "text/plain": [
       "<Figure size 432x288 with 1 Axes>"
      ]
     },
     "metadata": {},
     "output_type": "display_data"
    }
   ],
   "source": [
    "df.dtypes.value_counts().plot.pie()"
   ]
  },
  {
   "cell_type": "code",
   "execution_count": 136,
   "metadata": {},
   "outputs": [
    {
     "data": {
      "text/plain": [
       "wind_gust              0.312567\n",
       "visibility             0.001102\n",
       "_id                    0.000000\n",
       "main_feels_like        0.000000\n",
       "sys_sunrise            0.000000\n",
       "sys_country            0.000000\n",
       "clouds_all             0.000000\n",
       "wind_deg               0.000000\n",
       "wind_speed             0.000000\n",
       "main_grnd_level        0.000000\n",
       "main_sea_level         0.000000\n",
       "main_humidity          0.000000\n",
       "main_pressure          0.000000\n",
       "main_temp_max          0.000000\n",
       "main_temp_min          0.000000\n",
       "main_temp              0.000000\n",
       "base                   0.000000\n",
       "weather_icon           0.000000\n",
       "weather_description    0.000000\n",
       "weather_main           0.000000\n",
       "weather_id             0.000000\n",
       "coord_lat              0.000000\n",
       "coord_lon              0.000000\n",
       "cod                    0.000000\n",
       "name                   0.000000\n",
       "id                     0.000000\n",
       "timezone               0.000000\n",
       "dt                     0.000000\n",
       "sys_sunset             0.000000\n",
       "dtype: float64"
      ]
     },
     "execution_count": 136,
     "metadata": {},
     "output_type": "execute_result"
    }
   ],
   "source": [
    "# - on somme le nombre de valeurs manquantes\n",
    "# - on divise par le nombre total de lignes\n",
    "# - on trie par ordre décroissant\n",
    "(df.isnull().sum() / df.shape[0]).sort_values(ascending = False)"
   ]
  },
  {
   "cell_type": "code",
   "execution_count": 137,
   "metadata": {},
   "outputs": [
    {
     "data": {
      "text/plain": [
       "<AxesSubplot:>"
      ]
     },
     "execution_count": 137,
     "metadata": {},
     "output_type": "execute_result"
    },
    {
     "data": {
      "image/png": "[encoded data removed]",
      "text/plain": [
       "<Figure size 720x360 with 1 Axes>"
      ]
     },
     "metadata": {},
     "output_type": "display_data"
    }
   ],
   "source": [
    "plt.figure(figsize = (10, 5))\n",
    "sns.heatmap(df.isna(), cbar = False)"
   ]
  },
  {
   "cell_type": "code",
   "execution_count": 138,
   "metadata": {},
   "outputs": [
    {
     "name": "stdout",
     "output_type": "stream",
     "text": [
      "Index(['_id', 'base', 'visibility', 'dt', 'timezone', 'id', 'name', 'cod',\n",
      "       'coord_lon', 'coord_lat', 'weather_id', 'weather_main',\n",
      "       'weather_description', 'weather_icon', 'main_temp', 'main_feels_like',\n",
      "       'main_temp_min', 'main_temp_max', 'main_pressure', 'main_humidity',\n",
      "       'main_sea_level', 'main_grnd_level', 'wind_speed', 'wind_deg',\n",
      "       'wind_gust', 'clouds_all', 'sys_country', 'sys_sunrise', 'sys_sunset'],\n",
      "      dtype='object')\n",
      "_id                     object\n",
      "base                    object\n",
      "visibility             float64\n",
      "dt                       int64\n",
      "timezone                 int64\n",
      "id                       int64\n",
      "name                    object\n",
      "cod                      int64\n",
      "coord_lon              float64\n",
      "coord_lat              float64\n",
      "weather_id              object\n",
      "weather_main            object\n",
      "weather_description     object\n",
      "weather_icon            object\n",
      "main_temp              float64\n",
      "main_feels_like        float64\n",
      "main_temp_min          float64\n",
      "main_temp_max          float64\n",
      "main_pressure            int64\n",
      "main_humidity            int64\n",
      "main_sea_level           int64\n",
      "main_grnd_level          int64\n",
      "wind_speed             float64\n",
      "wind_deg                 int64\n",
      "wind_gust              float64\n",
      "clouds_all               int64\n",
      "sys_country             object\n",
      "sys_sunrise              int64\n",
      "sys_sunset               int64\n",
      "dtype: object\n"
     ]
    }
   ],
   "source": [
    "print(df.columns)\n",
    "print(df.dtypes)"
   ]
  },
  {
   "cell_type": "code",
   "execution_count": null,
   "metadata": {},
   "outputs": [
    {
     "data": {
      "text/plain": [
       "0    739251\n",
       "1    739251\n",
       "2    739251\n",
       "3    739251\n",
       "4    739251\n",
       "Name: date_ordinal, dtype: int64"
      ]
     },
     "execution_count": 139,
     "metadata": {},
     "output_type": "execute_result"
    }
   ],
   "source": [
    "df['dt'] = pd.to_datetime(df['dt'],unit='s')\n",
    "df['dt'].head()"
   ]
  },
  {
   "cell_type": "code",
   "execution_count": 151,
   "metadata": {},
   "outputs": [],
   "source": [
    "df['_id'] = df['_id'].astype('string')\n",
    "df['base'] = df['base'].astype('string')\n",
    "df['dt'] = df['dt'].astype('string')\n",
    "df['name'] = df['name'].astype('string')\n",
    "df['weather_main'] = df['weather_main'].astype('string')\n",
    "df['weather_description'] = df['weather_description'].astype('string')"
   ]
  },
  {
   "cell_type": "code",
   "execution_count": 141,
   "metadata": {},
   "outputs": [
    {
     "data": {
      "text/plain": [
       "weather_main\n",
       "['Clear']      14281\n",
       "['Clouds']     18710\n",
       "['Drizzle']       76\n",
       "['Fog']          423\n",
       "['Mist']        1828\n",
       "['Rain']          76\n",
       "Name: _id, dtype: int64"
      ]
     },
     "execution_count": 141,
     "metadata": {},
     "output_type": "execute_result"
    }
   ],
   "source": [
    "df.groupby('weather_main')['_id'].count()"
   ]
  },
  {
   "cell_type": "code",
   "execution_count": 142,
   "metadata": {},
   "outputs": [
    {
     "data": {
      "text/plain": [
       "Text(0.5, 1.0, \"Nombre d'enregistrements par type de météo\")"
      ]
     },
     "execution_count": 142,
     "metadata": {},
     "output_type": "execute_result"
    },
    {
     "data": {
      "image/png": "[encoded data removed]",
      "text/plain": [
       "<Figure size 432x288 with 1 Axes>"
      ]
     },
     "metadata": {},
     "output_type": "display_data"
    }
   ],
   "source": [
    "sns.set_theme(style = 'darkgrid')\n",
    "\n",
    "type_meteo = sns.countplot(x = 'weather_main',  data = df)\n",
    "\n",
    "# afficher les valeurs sur le graphique\n",
    "#type_meteo.bar_label(type_meteo.containers[0])\n",
    "\n",
    "plt.title(\"Nombre d'enregistrements par type de météo\")"
   ]
  },
  {
   "cell_type": "code",
   "execution_count": 143,
   "metadata": {},
   "outputs": [
    {
     "data": {
      "text/plain": [
       "<AxesSubplot:xlabel='main_temp', ylabel='Count'>"
      ]
     },
     "execution_count": 143,
     "metadata": {},
     "output_type": "execute_result"
    },
    {
     "data": {
      "image/png": "[encoded data removed]",
      "text/plain": [
       "<Figure size 432x288 with 1 Axes>"
      ]
     },
     "metadata": {},
     "output_type": "display_data"
    }
   ],
   "source": [
    "plt.figure()\n",
    "sns.histplot(df['main_temp'])"
   ]
  },
  {
   "cell_type": "code",
   "execution_count": 144,
   "metadata": {},
   "outputs": [
    {
     "data": {
      "text/plain": [
       "<AxesSubplot:xlabel='wind_speed', ylabel='Count'>"
      ]
     },
     "execution_count": 144,
     "metadata": {},
     "output_type": "execute_result"
    },
    {
     "data": {
      "image/png": "[encoded data removed]",
      "text/plain": [
       "<Figure size 432x288 with 1 Axes>"
      ]
     },
     "metadata": {},
     "output_type": "display_data"
    }
   ],
   "source": [
    "plt.figure()\n",
    "sns.histplot(df['wind_speed'])"
   ]
  },
  {
   "cell_type": "code",
   "execution_count": 153,
   "metadata": {},
   "outputs": [
    {
     "data": {
      "image/png": "[encoded data removed]",
      "text/plain": [
       "<Figure size 432x288 with 1 Axes>"
      ]
     },
     "metadata": {},
     "output_type": "display_data"
    },
    {
     "data": {
      "image/png": "[encoded data removed]",
      "text/plain": [
       "<Figure size 432x288 with 1 Axes>"
      ]
     },
     "metadata": {},
     "output_type": "display_data"
    }
   ],
   "source": [
    "def temperature_par_ville(ville):\n",
    "    df_filtered = df[df['name'] == ville]\n",
    "    \n",
    "    plt.figure()\n",
    "    ax = sns.lineplot(data = df_filtered,\n",
    "                 x = df_filtered['dt'],\n",
    "                 y = df_filtered['main_temp'])\n",
    "    \n",
    "    ax.tick_params(axis = 'x', rotation = 45)\n",
    "\n",
    "    plt.title(\"Evolution de la température à {}\".format(ville))\n",
    "    \n",
    "temperature_par_ville('Paris')\n",
    "temperature_par_ville('Toulouse')"
   ]
  }
 ],
 "metadata": {
  "kernelspec": {
   "display_name": "Python 3",
   "language": "python",
   "name": "python3"
  },
  "language_info": {
   "codemirror_mode": {
    "name": "ipython",
    "version": 3
   },
   "file_extension": ".py",
   "mimetype": "text/x-python",
   "name": "python",
   "nbconvert_exporter": "python",
   "pygments_lexer": "ipython3",
   "version": "3.10.3"
  }
 },
 "nbformat": 4,
 "nbformat_minor": 2
}
